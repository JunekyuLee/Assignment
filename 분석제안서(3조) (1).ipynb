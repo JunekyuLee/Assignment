{
 "cells": [
  {
   "cell_type": "markdown",
   "id": "dc885280-9fbe-4a3d-922f-9625ff8cc4c7",
   "metadata": {},
   "source": [
    "파이썬데이터분석 분석제안서(3조)\n",
    "\n",
    "팀원 : 이상민, 이준규, 강희령, 이승훈\n",
    "\n",
    "1.개요\n",
    "\n",
    "참가공모전:\n",
    "링커리어 2024환경데이터활용 및 분석공모전(재활용을 통한 순환경제 완성)\n",
    "\n",
    "분석의목적:\n",
    "지난 몇년간 강수량이 규칙적이지 않아 장마철에는 비가 충분히 오지 않고 서울이 물에 잠기기도 했습니다.\n",
    "빗물저장소인 저류조를 더욱 활용하여 빗물을 모으고 재활용 할 수 있다면 홍수와 가뭄 모두 피해를 줄일 수 있을거라 생각합니다.\n",
    "그래서 현재 저류조의 저장용량과 빗물저장시설 중 저류조가 차지하고있는 비율을 분석하려고 합니다.\n",
    "\n",
    "\n",
    "2.데이터수집:\n",
    "기상청에서 각 해의 강수량 데이터 수집,\n",
    "공공데이터포털에서 저류시설 종류와 용량 수집\n",
    "\n",
    "\n",
    "3.데이터전처리:\n",
    "데이터 수집중입니다.\n",
    "\n",
    "4.데이터 탐색 및 시각화:\n",
    "데이터 수집중입니다."
   ]
  }
 ],
 "metadata": {
  "kernelspec": {
   "display_name": "Python 3 (ipykernel)",
   "language": "python",
   "name": "python3"
  },
  "language_info": {
   "codemirror_mode": {
    "name": "ipython",
    "version": 3
   },
   "file_extension": ".py",
   "mimetype": "text/x-python",
   "name": "python",
   "nbconvert_exporter": "python",
   "pygments_lexer": "ipython3",
   "version": "3.9.7"
  }
 },
 "nbformat": 4,
 "nbformat_minor": 5
}
